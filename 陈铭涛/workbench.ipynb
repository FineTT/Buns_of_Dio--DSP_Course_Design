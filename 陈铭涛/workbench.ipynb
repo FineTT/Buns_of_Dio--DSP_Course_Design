{
 "cells": [
  {
   "source": [
    "# “数字信号处理”课程设计——工作台\n",
    "\n",
    "本文件为课程设计项目“语音信号增采样”提供给一个设计、开发和测试的环境。\n",
    "\n",
    "本文件也属于被评分的部分，学生需要连同课程设计报告一并提交，但请注意以下要求：\n",
    "- 保留完整的增采样方法的实现代码和输出结果，并进行适当的注释和说明。\n",
    "- 确保不需要任何改动（例如修改参数），可以全部直接运行和显示结果。\n",
    "- 删除所有多余的调试代码、无用输出结果等。\n",
    "- 本文件中可以包含原理说明、结果分析等非编程实现类的内容，但只作为学生自己参考用，教师将仅以课程设计报告中的相关内容作为评分依据。"
   ],
   "cell_type": "markdown",
   "metadata": {}
  },
  {
   "cell_type": "code",
   "execution_count": 5,
   "metadata": {},
   "outputs": [],
   "source": [
    "# Initialization for this notebook.\n",
    "\n",
    "import numpy as np\n",
    "from scipy import signal\n",
    "from scipy import fft\n",
    "import matplotlib.pyplot as plt\n",
    "\n",
    "# Import everything from `lib/dsp.py`.\n",
    "from lib.dsp import *\n",
    "\n",
    "# Un-comment the following line to use interactive matplotlib widget.\n",
    "%matplotlib widget"
   ]
  },
  {
   "cell_type": "code",
   "execution_count": 6,
   "metadata": {},
   "outputs": [],
   "source": [
    "# A selection of tick format functions that can be used by `analyze_filter`.\n",
    "def tick_format_rad_to_pi(value, tick_number):\n",
    "    \"\"\"Convert value (in rad) to multiple of pi.\"\"\"\n",
    "    return ('%.2f' % (value/np.pi)).rstrip('0').rstrip('.') + '$\\pi$'\n",
    "\n",
    "def tick_format_append_pi(value, tick_number):\n",
    "    \"\"\"Append pi symbol to the value.\"\"\"\n",
    "    return ('%.2f' % (value)).rstrip('0').rstrip('.') + '$\\pi$'\n",
    "\n",
    "def tick_format_append_hz(value, tick_number):\n",
    "    \"\"\"Append Hz unit to the value.\"\"\"\n",
    "    return ('%.2f' % (value)).rstrip('0').rstrip('.') + 'Hz'\n",
    "\n",
    "def analyze_filter(bands, b, a=1, show_plot=False, samples_per_band=129, fs=2, tick_format=tick_format_append_pi, amp_in_dB=True, type = 'Frequency Response'):\n",
    "    \"\"\"Find the R_p and A_s of the given filter and optionally show the frequency response plots.\n",
    "    \n",
    "    Parameters:\n",
    "      bands : array_like\n",
    "        A list of tuples, `(band_type, band_start, band_end)`, to describe each band.\n",
    "        `band_type`: str, one of 'pass', 'tran', 'stop'\n",
    "        `band_start`, `band_end`: float, the start and end frequencies, normalized to `fs`.\n",
    "      b : array_like\n",
    "        Numerator of the transfer function.\n",
    "      a : array_like, optional\n",
    "        Denominator of the transfer function. Default is 1 (FIR filter).\n",
    "      show_plot : bool, optional\n",
    "        Set to True to show the frequency response plots. Default is False.\n",
    "      samples_per_band : int, optional\n",
    "        Number of frequency samples per band (pass, transition and stop). Generally, more samples will give more accurate results. Default is 129.\n",
    "      fs: float, optional\n",
    "        Sampling frequency. Default is 2. (Tips: set to 2*numpy.pi for representing frequencies in rad/sample.)\n",
    "      tick_format: function, optional\n",
    "        Function to format tick values on x-axis. Default is `tick_format_append_pi`, which append a pi symbol to the values.\n",
    "      amp_in_dB: bool, optional\n",
    "        Whether the amplitude is represented in dB or not. Default is True.\n",
    "    \n",
    "    Returns:\n",
    "      R_p: float\n",
    "        Pass band ripple, in dB if amp_in_dB is True.\n",
    "      A_s: float\n",
    "        Stop band attenuation, in dB if amp_in_dB is True.\n",
    "    \"\"\"\n",
    "\n",
    "    if amp_in_dB:\n",
    "      dB = lambda x: 20 * np.log10(x)\n",
    "      amp_unit = '(dB)'\n",
    "    else:\n",
    "      dB = lambda x: x\n",
    "      amp_unit = ''\n",
    "\n",
    "    NUM_BANDS = len(bands)\n",
    "    [BAND_TYPE, BAND_START, BAND_END] = range(3)\n",
    "\n",
    "    # Compute frequency respone samples for each band.\n",
    "    w = []      # To store frequency samples for each band.\n",
    "    H = []      # To store frequency respone samples for each band.\n",
    "    for (band_type, w_start, w_end) in bands:\n",
    "        w_tmp, H_tmp = signal.freqz(\n",
    "          b=b, a=a, \n",
    "          worN=np.linspace(w_start, w_end, samples_per_band), \n",
    "          fs=fs)\n",
    "        w.append(w_tmp)\n",
    "        H.append(H_tmp)\n",
    "\n",
    "    # Normalize |H| to 1.     \n",
    "    H_abs = np.abs(H)\n",
    "    H_norm_factor = np.max(H_abs)\n",
    "    H = H / H_norm_factor\n",
    "    H_abs = H_abs / H_norm_factor\n",
    "\n",
    "    # Find the minimum pass band ripple and maximum stop band attenuation (across all respective bands).\n",
    "    pass_min = 1\n",
    "    stop_max = 0\n",
    "    for band in range(NUM_BANDS):\n",
    "      band_type = bands[band][BAND_TYPE]\n",
    "      if band_type=='pass':\n",
    "        pass_min = min(pass_min, np.min(H_abs[band]))\n",
    "      elif band_type=='stop':\n",
    "        stop_max = max(stop_max, np.max(H_abs[band]))\n",
    "    pass_min, stop_max = dB(pass_min), dB(stop_max)\n",
    "    \n",
    "    if show_plot:\n",
    "        NUM_PLOTS = 2\n",
    "        [AMP_PLOT, PHASE_PLOT] = range(NUM_PLOTS)\n",
    "        BAND_COLOR = {'pass':'green', 'tran':'blue', 'stop':'red'}\n",
    "\n",
    "        fig, axs = plt.subplots(NUM_PLOTS, 1 ,sharex='col')\n",
    "\n",
    "        # Plot the frequency response.\n",
    "        for band in range(NUM_BANDS):\n",
    "            band_type = bands[band][BAND_TYPE]\n",
    "            axs[AMP_PLOT].plot(w[band], dB(H_abs[band]), color=BAND_COLOR[band_type])\n",
    "            axs[PHASE_PLOT].plot(w[band], np.angle(H[band]), color=BAND_COLOR[band_type])\n",
    "        axs[AMP_PLOT].legend([bands[band][0] for band in range(3)])\n",
    "        axs[PHASE_PLOT].set_xlim(left=0, right=fs/2)\n",
    "        axs[AMP_PLOT].set_title(type)\n",
    "        axs[AMP_PLOT].set_ylabel('Amplitude' + amp_unit)\n",
    "        axs[PHASE_PLOT].set_ylabel('Phase')\n",
    "        axs[PHASE_PLOT].set_xlabel('Frequency')\n",
    "        axs[AMP_PLOT].grid()\n",
    "        axs[PHASE_PLOT].grid()\n",
    "\n",
    "        # Set the tick format\n",
    "        axs[PHASE_PLOT].xaxis.set_major_formatter(plt.FuncFormatter(tick_format))\n",
    "        axs[PHASE_PLOT].xaxis.set_major_locator(plt.MultipleLocator(fs/8))\n",
    "        axs[PHASE_PLOT].yaxis.set_major_formatter(plt.FuncFormatter(tick_format_rad_to_pi))\n",
    "        axs[PHASE_PLOT].yaxis.set_major_locator(plt.MultipleLocator(np.pi/2))\n",
    "\n",
    "        # Add horizontal lines to indicate R_p and A_s.\n",
    "        axs[AMP_PLOT].axhline(y=pass_min, linestyle='--', color=BAND_COLOR['pass'])\n",
    "        axs[AMP_PLOT].axhline(y=stop_max, linestyle='--', color=BAND_COLOR['stop'])\n",
    "        axs[AMP_PLOT].secondary_yaxis('right').set_yticks([pass_min, stop_max])\n",
    "\n",
    "        # Add vertical lines to indicate band egdes.\n",
    "        band_edges = []\n",
    "        for band in range(NUM_BANDS):\n",
    "          band_type, band_start, band_end = bands[band]\n",
    "          if band_type=='tran':\n",
    "            for plot in range(NUM_PLOTS):\n",
    "              axs[plot].axvline(band_start, linestyle='--')\n",
    "              axs[plot].axvline(band_end, linestyle='--')\n",
    "              band_edges.append(band_start)\n",
    "              band_edges.append(band_end)\n",
    "        ax_phase_top = axs[PHASE_PLOT].secondary_xaxis('top')\n",
    "        ax_phase_top.xaxis.set_major_formatter(plt.FuncFormatter(tick_format))\n",
    "        ax_phase_top.set_xticks(band_edges)\n",
    "\n",
    "    if amp_in_dB:\n",
    "      R_p, A_s = -pass_min, -stop_max\n",
    "    else:\n",
    "      R_p, A_s = pass_min, stop_max\n",
    "    return R_p, A_s"
   ]
  },
  {
   "source": [
    "## 引言\n",
    "\n",
    "以下的代码通过对一组特定信号的频谱分析，引导学生思考如何通过数字滤波的方法实现增采样。"
   ],
   "cell_type": "markdown",
   "metadata": {}
  },
  {
   "source": [
    "定义一个信号发生函数，用于生成类似语音信号的信号序列。"
   ],
   "cell_type": "markdown",
   "metadata": {}
  },
  {
   "cell_type": "code",
   "execution_count": 7,
   "metadata": {},
   "outputs": [],
   "source": [
    "def gen_signal(fs, n):\n",
    "    \"\"\"Generate a test signal that comsists of several sin components.\"\"\"\n",
    "    # Create a list of parameters, (A, w, phi), for each sin component.\n",
    "    x_comp = []\n",
    "    x_comp.append((0.30, 2*np.pi/fs * 1.0e3, 0))\n",
    "    x_comp.append((0.25, 2*np.pi/fs * 1.5e3, 0))\n",
    "    x_comp.append((0.20, 2*np.pi/fs * 2.0e3, 0))\n",
    "    x_comp.append((0.15, 2*np.pi/fs * 2.5e3, 0))\n",
    "    x_comp.append((0.10, 2*np.pi/fs * 3.0e3, 0))\n",
    "    \n",
    "    # Generate the sequence by combining all sin components.\n",
    "    x = np.sum([seq_sin(A, w, phi, 0, n-1) for A, w, phi in x_comp], axis=0)[0]\n",
    "\n",
    "    return x"
   ]
  },
  {
   "source": [
    "画出三个信号及其频谱：\n",
    "- 低采样率(8KHz)信号 `x`\n",
    "- 对 `x` 进行样本间“插零”后的信号 `x_insert_0`\n",
    "- 目标高采样率(8KHz*6=48KHz)信号 `x_target`"
   ],
   "cell_type": "markdown",
   "metadata": {}
  },
  {
   "cell_type": "code",
   "execution_count": 8,
   "metadata": {},
   "outputs": [
    {
     "output_type": "display_data",
     "data": {
      "text/plain": "Canvas(toolbar=Toolbar(toolitems=[('Home', 'Reset original view', 'home', 'home'), ('Back', 'Back to previous …",
      "application/vnd.jupyter.widget-view+json": {
       "version_major": 2,
       "version_minor": 0,
       "model_id": "2067deb58f7c46e6aafab86cd80a3719"
      }
     },
     "metadata": {}
    }
   ],
   "source": [
    "x_len = 128     # length of the low sampling rate signal\n",
    "fs_x = 8e3      # the low sampling rate\n",
    "up_factor = 6   # upsampling factor\n",
    "\n",
    "fs_up = fs_x * up_factor\n",
    "x_len_up = x_len * up_factor\n",
    "\n",
    "# Generate the low sampling rate signal.\n",
    "x = gen_signal(fs_x, x_len)\n",
    "\n",
    "# Insert zeros between samples.\n",
    "x_insert_0 = np.zeros(x_len_up)\n",
    "x_insert_0[::up_factor] = x\n",
    "\n",
    "# Generate a high sampling rate target signal.\n",
    "x_target = gen_signal(fs_up, x_len_up)\n",
    "\n",
    "# Plot the signals for inspection.\n",
    "fig, axs = plt.subplots(3, 2, figsize=(12,6))\n",
    "fig.tight_layout(h_pad=4)\n",
    "TITLES = ['sequence', 'spectrum']\n",
    "plot_signals(['x'], [x], fs_x, axs[0,:], TITLES)\n",
    "plot_signals(['x_insert_0'], [x_insert_0], fs_up, axs[1,:], TITLES)\n",
    "plot_signals(\n",
    "    ['x_target', 'x_insert_0'],\n",
    "    [x_target, x_insert_0],\n",
    "    fs_up, axs[2,:],\n",
    "    TITLES\n",
    ")"
   ]
  },
  {
   "source": [
    "## 基于数字滤波的增采样方法设计\n",
    "\n",
    "基于以上信号的特点，设计一个基于数字滤波器的增采样方法。\n",
    "\n",
    "【提示】将低采样率的信号 `x` 通过插零得到 `x_insert_0`，再输入某个数字滤波器后，得到接近目标高采样率信号 `x_target` 的信号 `x_filter`。\n",
    "\n",
    "请按以下指引，在下文编写程序实现该方法：\n",
    "- 制定数字滤波器的技术指标。\n",
    "- 计算满足指标的数字滤波器的系数 `b` 和 `a`。\n",
    "- 编写一个函数`upsample_filter()`，输入低采样率的信号 `x`，输出通过滤波方法得到的增采样信号 `x_filter`\n",
    "- 将信号 `x_filter` 与 `x_target` 对齐画在同一个坐标系中进行比较。\n",
    "  - `x_filter` 相对于 `x_target` 是有延迟，且需要经过一段时间才能达到稳定。因此，需要进行一定的处理才可得到有意义的比较。【提示】截取“有效”部分并对齐。\n",
    "  通过平移来尽量对齐重叠。\n",
    "- 计算 `x_filter` 与 `x_target` 有效对齐部分的 MSE（均方差）。\n",
    "- 尝试不同的滤波器类型和参数，找到最优方案，即 MSE 最小的滤波器及其参数。\n",
    "  - 至少尝试一种IIR和一种FIR滤波器"
   ],
   "cell_type": "markdown",
   "metadata": {}
  },
  {
   "source": [
    "### FIR滤波器"
   ],
   "cell_type": "markdown",
   "metadata": {}
  },
  {
   "cell_type": "code",
   "execution_count": 6,
   "metadata": {},
   "outputs": [
    {
     "output_type": "display_data",
     "data": {
      "text/plain": "Canvas(toolbar=Toolbar(toolitems=[('Home', 'Reset original view', 'home', 'home'), ('Back', 'Back to previous …",
      "application/vnd.jupyter.widget-view+json": {
       "version_major": 2,
       "version_minor": 0,
       "model_id": "0e489c1a317042d481393c118d76f23f"
      }
     },
     "metadata": {}
    },
    {
     "output_type": "stream",
     "name": "stdout",
     "text": [
      "type = blackman, N = 264, R_p = 0.003417, A_s = 72.998039\nb = [ 8.69439623e-21 -8.86142240e-08 -4.88237565e-07 -1.10822170e-06\n -1.45566518e-06 -8.40641681e-07  1.22290293e-06  4.59611908e-06\n  8.29176143e-06  1.06159236e-05  9.70978957e-06  4.35400151e-06\n -5.24844084e-06 -1.70524256e-05 -2.73861497e-05 -3.18818249e-05\n -2.69396356e-05 -1.12971700e-05  1.28581743e-05  3.97503445e-05\n  6.11231359e-05  6.84816505e-05  5.59297977e-05  2.27515518e-05\n -2.51966849e-05 -7.59921519e-05 -1.14256478e-04 -1.25415171e-04\n -1.00522725e-04 -4.01911227e-05  4.38062489e-05  1.30180013e-04\n  1.93059878e-04  2.09218860e-04  1.65697619e-04  6.55101215e-05\n -7.06534769e-05 -2.07886307e-04 -3.05420335e-04 -3.28057236e-04\n -2.57636412e-04 -1.01047103e-04  1.08153526e-04  3.15920976e-04\n  4.60932914e-04  4.91821641e-04  3.83799993e-04  1.49614668e-04\n -1.59202086e-04 -4.62426328e-04 -6.71042257e-04 -7.12285796e-04\n -5.53053978e-04 -2.14550490e-04  2.27232087e-04  6.57049565e-04\n  9.49305346e-04  1.00339895e-03  7.75908192e-04  2.99815127e-04\n -3.16322817e-04 -9.11275163e-04 -1.31189743e-03 -1.38184926e-03\n -1.06497556e-03 -4.10178787e-04  4.31407431e-04  1.23905436e-03\n  1.77856621e-03  1.86812195e-03  1.43583080e-03  5.51569567e-04\n -5.78658673e-04 -1.65797207e-03 -2.37439664e-03 -2.48845312e-03\n -1.90859381e-03 -7.31715161e-04  7.66199533e-04  2.19139778e-03\n  3.13306732e-03  3.27844057e-03  2.51086262e-03  9.61334872e-04\n -1.00542794e-03 -2.87251127e-03 -4.10297398e-03 -4.28987048e-03\n -3.28329180e-03 -1.25642199e-03  1.31357187e-03  3.75213013e-03\n  5.35924021e-03  5.60423407e-03  4.29075036e-03  1.64285907e-03\n -1.71891676e-03 -4.91492509e-03 -7.02893216e-03 -7.36150897e-03\n -5.64644165e-03 -2.16655582e-03  2.27248534e-03  6.51631107e-03\n  9.34953510e-03  9.82828191e-03  7.57024226e-03  2.91854091e-03\n -3.07766268e-03 -8.87849452e-03 -1.28255018e-02 -1.35856353e-02\n -1.05548225e-02 -4.10890199e-03  4.38077639e-03  1.27960845e-02\n  1.87483634e-02  2.01834293e-02  1.59746549e-02  6.35361928e-03\n -6.94515873e-03 -2.08892482e-02 -3.16873177e-02 -3.55650625e-02\n -2.96177049e-02 -1.25497557e-02  1.48732782e-02  4.97808882e-02\n  8.75949925e-02  1.22805338e-01  1.49973242e-01  1.64759144e-01\n  1.64759144e-01  1.49973242e-01  1.22805338e-01  8.75949925e-02\n  4.97808882e-02  1.48732782e-02 -1.25497557e-02 -2.96177049e-02\n -3.55650625e-02 -3.16873177e-02 -2.08892482e-02 -6.94515873e-03\n  6.35361928e-03  1.59746549e-02  2.01834293e-02  1.87483634e-02\n  1.27960845e-02  4.38077639e-03 -4.10890199e-03 -1.05548225e-02\n -1.35856353e-02 -1.28255018e-02 -8.87849452e-03 -3.07766268e-03\n  2.91854091e-03  7.57024226e-03  9.82828191e-03  9.34953510e-03\n  6.51631107e-03  2.27248534e-03 -2.16655582e-03 -5.64644165e-03\n -7.36150897e-03 -7.02893216e-03 -4.91492509e-03 -1.71891676e-03\n  1.64285907e-03  4.29075036e-03  5.60423407e-03  5.35924021e-03\n  3.75213013e-03  1.31357187e-03 -1.25642199e-03 -3.28329180e-03\n -4.28987048e-03 -4.10297398e-03 -2.87251127e-03 -1.00542794e-03\n  9.61334872e-04  2.51086262e-03  3.27844057e-03  3.13306732e-03\n  2.19139778e-03  7.66199533e-04 -7.31715161e-04 -1.90859381e-03\n -2.48845312e-03 -2.37439664e-03 -1.65797207e-03 -5.78658673e-04\n  5.51569567e-04  1.43583080e-03  1.86812195e-03  1.77856621e-03\n  1.23905436e-03  4.31407431e-04 -4.10178787e-04 -1.06497556e-03\n -1.38184926e-03 -1.31189743e-03 -9.11275163e-04 -3.16322817e-04\n  2.99815127e-04  7.75908192e-04  1.00339895e-03  9.49305346e-04\n  6.57049565e-04  2.27232087e-04 -2.14550490e-04 -5.53053978e-04\n -7.12285796e-04 -6.71042257e-04 -4.62426328e-04 -1.59202086e-04\n  1.49614668e-04  3.83799993e-04  4.91821641e-04  4.60932914e-04\n  3.15920976e-04  1.08153526e-04 -1.01047103e-04 -2.57636412e-04\n -3.28057236e-04 -3.05420335e-04 -2.07886307e-04 -7.06534769e-05\n  6.55101215e-05  1.65697619e-04  2.09218860e-04  1.93059878e-04\n  1.30180013e-04  4.38062489e-05 -4.01911227e-05 -1.00522725e-04\n -1.25415171e-04 -1.14256478e-04 -7.59921519e-05 -2.51966849e-05\n  2.27515518e-05  5.59297977e-05  6.84816505e-05  6.11231359e-05\n  3.97503445e-05  1.28581743e-05 -1.12971700e-05 -2.69396356e-05\n -3.18818249e-05 -2.73861497e-05 -1.70524256e-05 -5.24844084e-06\n  4.35400151e-06  9.70978957e-06  1.06159236e-05  8.29176143e-06\n  4.59611908e-06  1.22290293e-06 -8.40641681e-07 -1.45566518e-06\n -1.10822170e-06 -4.88237565e-07 -8.86142240e-08  8.69439623e-21]\na = 1\n"
     ]
    }
   ],
   "source": [
    "fs = fs_up\n",
    "f_c = fs_x / 2\n",
    "f_p = f_c - 0.5e3\n",
    "f_st = f_c + 0.5e3\n",
    "f_tran = f_st - f_p\n",
    "R_p_traget = 1  # in dB\n",
    "A_s_traget = 42 # in dB\n",
    "\n",
    "#window = 'hann'\n",
    "#window = 'hamming'\n",
    "#window = 'blackman'\n",
    "window = 'kaiser'\n",
    "# 根据传入的窗函数名称参数，得到过渡带（凯泽窗除外）\n",
    "if (window == 'hann'):\n",
    "    window_tran = 6.2 * (fs/2)\n",
    "    N = int(np.ceil(window_tran / f_tran))\n",
    "elif (window == 'hamming'):\n",
    "    window_tran = 6.6 * (fs/2)\n",
    "    N = int(np.ceil(window_tran / f_tran))\n",
    "elif (window == 'blackman'):\n",
    "    window_tran = 11 * (fs/2)\n",
    "    N = int(np.ceil(window_tran / f_tran))\n",
    "elif (window == 'kaiser'):\n",
    "    N, kaiser_beta = signal.kaiserord(A_s_traget, (f_st - f_p)/(0.5*fs))    # 计算凯泽窗口的长度N和β参数\n",
    "\n",
    "b = signal.firwin(N, f_c, window=(window, kaiser_beta) if (window == 'kaiser') else window, fs=fs)\n",
    "a = 1\n",
    "\n",
    "\n",
    "# Analyze the filter.\n",
    "bands= [\n",
    "    ('pass', 0, f_p), \n",
    "    ('tran', f_p, f_st), \n",
    "    ('stop', f_st, fs/2)\n",
    "    ]\n",
    "def tick_format_to_khz(value, tick_number):\n",
    "    \"\"\"Show the value in kHz\"\"\"\n",
    "    return ('%.2f' % (value/1000)).rstrip('0').rstrip('.') + 'kHz'\n",
    "R_p, A_s = analyze_filter(bands, b=b, a=a, show_plot=True, fs=fs, tick_format=tick_format_to_khz, amp_in_dB=True)\n",
    "print('type = %s, N = %d, R_p = %f, A_s = %f' % (window, N, R_p, A_s))\n",
    "print('b =', b)\n",
    "print('a =', a)"
   ]
  },
  {
   "cell_type": "code",
   "execution_count": 9,
   "metadata": {},
   "outputs": [],
   "source": [
    "def upsample_filter(x):\n",
    "    # Insert zeros between samples.\n",
    "    x_insert_0 = np.zeros(x_len_up)\n",
    "    x_insert_0[::up_factor] = x\n",
    "\n",
    "    x_filter = signal.lfilter(b=b, a=a, x=x_insert_0) * 6\n",
    "\n",
    "    return x_filter"
   ]
  },
  {
   "cell_type": "code",
   "execution_count": 8,
   "metadata": {},
   "outputs": [],
   "source": [
    "def comp_plots(x_filter, x_target):\n",
    "    x_filter_slice = x_filter[int(np.floor(N/2))::]\n",
    "    x_target_slice = x_target[0:len(x_filter_slice)]\n",
    "    # Plot the signals for inspection.\n",
    "    fig, axs = plt.subplots(3, 2, figsize=(12,6))\n",
    "    fig.tight_layout(h_pad=4)\n",
    "    TITLES = ['sequence', 'spectrum']\n",
    "    plot_signals(['x_filter'], [x_filter_slice], fs_up, axs[0,:], TITLES)\n",
    "    plot_signals(['x_target'], [x_target_slice], fs_up, axs[1,:], TITLES)\n",
    "    plot_signals(\n",
    "        ['x_target', 'x_filter'],\n",
    "        [x_target_slice, x_filter_slice],\n",
    "        fs_up, axs[2,:],\n",
    "        TITLES\n",
    "    )"
   ]
  },
  {
   "cell_type": "code",
   "execution_count": 9,
   "metadata": {},
   "outputs": [
    {
     "output_type": "display_data",
     "data": {
      "text/plain": "Canvas(toolbar=Toolbar(toolitems=[('Home', 'Reset original view', 'home', 'home'), ('Back', 'Back to previous …",
      "application/vnd.jupyter.widget-view+json": {
       "version_major": 2,
       "version_minor": 0,
       "model_id": "83a7c57e6dca40d5b2cbc37b33e8ebdc"
      }
     },
     "metadata": {}
    }
   ],
   "source": [
    "x_len = 128     # length of the low sampling rate signal\n",
    "fs_x = 8e3      # the low sampling rate\n",
    "up_factor = 6   # upsampling factor\n",
    "\n",
    "fs_up = fs_x * up_factor\n",
    "x_len_up = x_len * up_factor\n",
    "\n",
    "# Generate the low sampling rate signal.\n",
    "x = gen_signal(fs_x, x_len)\n",
    "\n",
    "# Generate a high sampling rate target signal.\n",
    "x_target = gen_signal(fs_up, x_len_up)\n",
    "\n",
    "\n",
    "x_filter = upsample_filter(x)\n",
    "comp_plots(x_filter, x_target)"
   ]
  },
  {
   "cell_type": "code",
   "execution_count": 10,
   "metadata": {
    "tags": []
   },
   "outputs": [
    {
     "output_type": "execute_result",
     "data": {
      "text/plain": [
       "0.0012948544950448315"
      ]
     },
     "metadata": {},
     "execution_count": 10
    }
   ],
   "source": [
    "def cal_MSE(x_filter, x_target):\n",
    "    x_filter_slice = x_filter[int(np.floor(N/2))::]\n",
    "    x_target_slice = x_target[0:len(x_filter_slice)]\n",
    "\n",
    "    if (len(x_filter_slice) == len(x_target_slice)):\n",
    "        return ( sum((x_target_slice-x_filter_slice)**2) / len(x_filter_slice) )\n",
    "\n",
    "cal_MSE(x_filter, x_target)\n"
   ]
  },
  {
   "source": [
    "汉宁:       0.00012730336879477908  N = 149  \n",
    "海明:       0.00013096570925074288  N = 159  \n",
    "布莱克曼:   0.0012948544950448315   N = 264  \n",
    "凯泽：      0.0001246294739115957  N = 115"
   ],
   "cell_type": "markdown",
   "metadata": {}
  },
  {
   "source": [
    "### IIR滤波器"
   ],
   "cell_type": "markdown",
   "metadata": {}
  },
  {
   "cell_type": "code",
   "execution_count": 13,
   "metadata": {},
   "outputs": [
    {
     "output_type": "display_data",
     "data": {
      "text/plain": "Canvas(toolbar=Toolbar(toolitems=[('Home', 'Reset original view', 'home', 'home'), ('Back', 'Back to previous …",
      "application/vnd.jupyter.widget-view+json": {
       "version_major": 2,
       "version_minor": 0,
       "model_id": "f3dda631ca1c4d0abcb9719d6fedcf57"
      }
     },
     "metadata": {}
    },
    {
     "output_type": "stream",
     "name": "stdout",
     "text": [
      "type = cheby2, order = 9, R_p = 1.000000, A_s = 42.000001\nb = [ 0.01008596 -0.03949653  0.07627619 -0.08126411  0.03589419  0.03589419\n -0.08126411  0.07627619 -0.03949653  0.01008596]\na = [  1.          -5.76089253  15.1910968  -23.9091114   24.6614943\n -17.24215288   8.15521846  -2.5121307    0.45669963  -0.03723027]\n"
     ]
    }
   ],
   "source": [
    "fs = fs_up\n",
    "f_c = fs_x / 2\n",
    "f_p = f_c - 0.5e3\n",
    "f_st = f_c + 0.5e3\n",
    "f_tran = f_st - f_p\n",
    "R_p_traget = 1  # in dB\n",
    "A_s_traget = 42 # in dB\n",
    "\n",
    "## Uncomment only one of the following:\n",
    "#ftype='butter'\n",
    "#ftype='cheby1'\n",
    "ftype='cheby2'\n",
    "#ftype='ellip'\n",
    "\n",
    "b, a = signal.iirdesign(\n",
    "    f_p, f_st, \n",
    "    R_p_traget, A_s_traget,\n",
    "    ftype=ftype,\n",
    "    fs=fs)\n",
    "forder = max(len(b), len(a)) - 1\n",
    "\n",
    "# Analyze the filter.\n",
    "bands= [\n",
    "    ('pass', 0, f_p), \n",
    "    ('tran', f_p, f_st), \n",
    "    ('stop', f_st, fs/2)\n",
    "    ]\n",
    "R_p, A_s = analyze_filter(bands, b=b, a=a, show_plot=True, fs=fs, tick_format=tick_format_to_khz, amp_in_dB=True)\n",
    "print('type = %s, order = %d, R_p = %f, A_s = %f' % (ftype, forder, R_p, A_s))\n",
    "print('b =', b)\n",
    "print('a =', a)"
   ]
  },
  {
   "cell_type": "code",
   "execution_count": 34,
   "metadata": {},
   "outputs": [],
   "source": [
    "def comp_plots(x_filter, x_target):\n",
    "    x_filter_slice = x_filter[int(np.floor(5))::]\n",
    "    x_target_slice = x_target[0:len(x_filter_slice)]\n",
    "    # Plot the signals for inspection.\n",
    "    fig, axs = plt.subplots(3, 2, figsize=(12,6))\n",
    "    fig.tight_layout(h_pad=4)\n",
    "    TITLES = ['sequence', 'spectrum']\n",
    "    plot_signals(['x_filter'], [x_filter_slice], fs_up, axs[0,:], TITLES)\n",
    "    plot_signals(['x_target'], [x_target_slice], fs_up, axs[1,:], TITLES)\n",
    "    plot_signals(\n",
    "        ['x_target', 'x_filter'],\n",
    "        [x_target_slice, x_filter_slice],\n",
    "        fs_up, axs[2,:],\n",
    "        TITLES\n",
    "    )\n",
    "\n",
    "def cal_MSE(x_filter, x_target):\n",
    "    x_filter_slice = x_filter[int(np.floor(forder))::]\n",
    "    x_target_slice = x_target[0:len(x_filter_slice)]\n",
    "\n",
    "    if (len(x_filter_slice) == len(x_target_slice)):\n",
    "        return ( sum((x_target_slice-x_filter_slice)**2) / len(x_filter_slice) )"
   ]
  },
  {
   "cell_type": "code",
   "execution_count": 35,
   "metadata": {},
   "outputs": [
    {
     "output_type": "display_data",
     "data": {
      "text/plain": "Canvas(toolbar=Toolbar(toolitems=[('Home', 'Reset original view', 'home', 'home'), ('Back', 'Back to previous …",
      "application/vnd.jupyter.widget-view+json": {
       "version_major": 2,
       "version_minor": 0,
       "model_id": "2c30d1a10c664bc597fdfb91a48223ad"
      }
     },
     "metadata": {}
    },
    {
     "output_type": "execute_result",
     "data": {
      "text/plain": [
       "0.016399890858700673"
      ]
     },
     "metadata": {},
     "execution_count": 35
    }
   ],
   "source": [
    "x_filter = upsample_filter(x)\n",
    "\n",
    "comp_plots(x_filter, x_target)\n",
    "\n",
    "cal_MSE(x_filter, x_target)"
   ]
  },
  {
   "source": [
    "## 基于时域插值的增采样方法\n",
    "\n",
    "查阅资料，学习最近邻域插值(nearest neighbour interpolation)、线性插值(linear interpolation)的基本原理。\n",
    "\n",
    "【提示】可以利用现成的函数库进行插值计算。\n",
    "\n",
    "请按以下指引，在下文编写程序实现该方法：\n",
    "- 编写一个函数 `upsample_interp()`，输入低采样率的信号 `x`，输出通过插值方法得到的增采样信号 `x_interp`。\n",
    "- 将信号 `x_interp` 与 `x_target` 对齐画在同一个坐标系中进行比较。\n",
    "  - 注意 `x_interp` 相对于 `x_target` 是否有延迟，是否需要截取“有效”部分并对齐。\n",
    "- 计算 `x_interp` 与 `x_target` 有效对齐部分的 MSE（均方差）。\n",
    "- 尝试不同插值类型，找到最优方案，即 MSE 最小插值类型出。"
   ],
   "cell_type": "markdown",
   "metadata": {}
  }
 ],
 "metadata": {
  "kernelspec": {
   "display_name": "Python 3",
   "language": "python",
   "name": "python3"
  },
  "language_info": {
   "codemirror_mode": {
    "name": "ipython",
    "version": 3
   },
   "file_extension": ".py",
   "mimetype": "text/x-python",
   "name": "python",
   "nbconvert_exporter": "python",
   "pygments_lexer": "ipython3",
   "version": "3.6.6-final"
  }
 },
 "nbformat": 4,
 "nbformat_minor": 4
}